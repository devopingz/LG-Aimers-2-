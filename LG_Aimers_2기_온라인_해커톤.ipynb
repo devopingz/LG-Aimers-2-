{
  "cells": [
    {
      "cell_type": "markdown",
      "metadata": {
        "id": "273b75f6-25fa-4f9c-8c9d-fa33a985f2dd"
      },
      "source": [
        "## Import"
      ],
      "id": "273b75f6-25fa-4f9c-8c9d-fa33a985f2dd"
    },
    {
      "cell_type": "code",
      "execution_count": null,
      "metadata": {
        "colab": {
          "base_uri": "https://localhost:8080/"
        },
        "id": "5c415d9d-1111-46ed-bc2d-849c75ab962a",
        "outputId": "6c0b9a79-23e0-4b0e-b422-e6cc62b61154"
      },
      "outputs": [
        {
          "output_type": "stream",
          "name": "stdout",
          "text": [
            "Mounted at /content/gdrive/\n"
          ]
        }
      ],
      "source": [
        "#구글 드라이브 연결\n",
        "from google.colab import drive\n",
        "drive.mount('/content/gdrive/')"
      ],
      "id": "5c415d9d-1111-46ed-bc2d-849c75ab962a"
    },
    {
      "cell_type": "code",
      "execution_count": null,
      "metadata": {
        "id": "oiaXsrmuSosC"
      },
      "outputs": [],
      "source": [
        "#구글 드라이브 경로 설정 \n",
        "DATA_PATH = '/content/gdrive/My Drive/LG Aimers phase2/' \n",
        "MODEL_PATH='/content/gdrive/My Drive/LG Aimers phase2/'\n",
        "SUBMISSION_PATH='/content/gdrive/My Drive/LG Aimers phase2/' "
      ],
      "id": "oiaXsrmuSosC"
    },
    {
      "cell_type": "markdown",
      "metadata": {
        "id": "fz15M_cUkjJa"
      },
      "source": [],
      "id": "fz15M_cUkjJa"
    },
    {
      "cell_type": "code",
      "execution_count": null,
      "metadata": {
        "id": "aU0h2V6KUiU0"
      },
      "outputs": [],
      "source": [
        "import pandas as pd\n",
        "import random\n",
        "import os\n",
        "import numpy as np\n",
        "import sklearn.metrics as metrics\n",
        "import statistics\n",
        "import math as math\n",
        "import seaborn as sns\n",
        "\n",
        "from sklearn.ensemble import VotingClassifier\n",
        "from lightgbm import plot_importance\n",
        "from sklearn.ensemble import GradientBoostingClassifier\n",
        "from xgboost import XGBClassifier\n",
        "from sklearn.metrics import f1_score\n",
        "from sklearn.metrics import accuracy_score\n",
        "from sklearn.preprocessing import LabelEncoder\n",
        "from lightgbm import LGBMClassifier"
      ],
      "id": "aU0h2V6KUiU0"
    },
    {
      "cell_type": "markdown",
      "metadata": {
        "id": "Wsg-QiUESJhL"
      },
      "source": [],
      "id": "Wsg-QiUESJhL"
    },
    {
      "cell_type": "code",
      "execution_count": null,
      "metadata": {
        "id": "edae871a-b31b-4f06-bb88-0fd1f6660b13"
      },
      "outputs": [],
      "source": [
        "def seed_everything(seed):\n",
        "    random.seed(seed)\n",
        "    os.environ['PYTHONHASHSEED'] = str(seed)\n",
        "    np.random.seed(seed)\n",
        "seed_everything(37) # Seed 고정"
      ],
      "id": "edae871a-b31b-4f06-bb88-0fd1f6660b13"
    },
    {
      "cell_type": "markdown",
      "metadata": {
        "id": "119f9c1c-39bc-42e7-a00d-3062d11b4f1e"
      },
      "source": [
        "## Data Load"
      ],
      "id": "119f9c1c-39bc-42e7-a00d-3062d11b4f1e"
    },
    {
      "cell_type": "code",
      "execution_count": null,
      "metadata": {
        "id": "ee76c413-001b-475e-9d1c-6662d25d2db2"
      },
      "outputs": [],
      "source": [
        "train_df = pd.read_csv(DATA_PATH + 'train.csv')\n",
        "test_df = pd.read_csv(DATA_PATH + 'test.csv')"
      ],
      "id": "ee76c413-001b-475e-9d1c-6662d25d2db2"
    },
    {
      "cell_type": "markdown",
      "source": [
        "#EDA"
      ],
      "metadata": {
        "id": "khV-ITpdXJZ1"
      },
      "id": "khV-ITpdXJZ1"
    },
    {
      "cell_type": "code",
      "execution_count": null,
      "metadata": {
        "id": "ffc6afcd-a059-4c16-81a5-ab3d4d750a41"
      },
      "outputs": [],
      "source": [
        "# 칼럼 드랍\n",
        "train_x = train_df.drop(columns=['PRODUCT_ID', 'TIMESTAMP', 'Y_Class', 'Y_Quality'])\n",
        "train_y = train_df['Y_Class']\n",
        "test_x = test_df.drop(columns=['PRODUCT_ID', 'TIMESTAMP'])"
      ],
      "id": "ffc6afcd-a059-4c16-81a5-ab3d4d750a41"
    },
    {
      "cell_type": "code",
      "execution_count": null,
      "metadata": {
        "id": "witOImh6msnf",
        "colab": {
          "base_uri": "https://localhost:8080/"
        },
        "outputId": "300a41c3-b00b-43fd-a78b-cb43f087e3c9"
      },
      "outputs": [
        {
          "output_type": "stream",
          "name": "stdout",
          "text": [
            "        LINE PRODUCT_CODE   X_1   X_2  X_3   X_4   X_5  X_6   X_7   X_8  ...  \\\n",
            "0    T050304         A_31   NaN   NaN  NaN   NaN   NaN  NaN   NaN   NaN  ...   \n",
            "1    T050307         A_31   NaN   NaN  NaN   NaN   NaN  NaN   NaN   NaN  ...   \n",
            "2    T050304         A_31   NaN   NaN  NaN   NaN   NaN  NaN   NaN   NaN  ...   \n",
            "3    T050307         A_31   NaN   NaN  NaN   NaN   NaN  NaN   NaN   NaN  ...   \n",
            "4    T050304         A_31   NaN   NaN  NaN   NaN   NaN  NaN   NaN   NaN  ...   \n",
            "..       ...          ...   ...   ...  ...   ...   ...  ...   ...   ...  ...   \n",
            "593  T100306         T_31   2.0  95.0  0.0  45.0  10.0  0.0  50.0  10.0  ...   \n",
            "594  T050304         A_31   NaN   NaN  NaN   NaN   NaN  NaN   NaN   NaN  ...   \n",
            "595  T050304         A_31   NaN   NaN  NaN   NaN   NaN  NaN   NaN   NaN  ...   \n",
            "596  T100304         O_31  40.0  94.0  0.0  45.0  11.0  0.0  45.0  10.0  ...   \n",
            "597  T100306         O_31  21.0  87.0  0.0  45.0  10.0  0.0  61.0  10.0  ...   \n",
            "\n",
            "     X_2866  X_2867  X_2868  X_2869  X_2870  X_2871  X_2872  X_2873  X_2874  \\\n",
            "0     39.34   40.89   32.56   34.09   77.77     NaN     NaN     NaN     NaN   \n",
            "1     38.89   42.82   43.92   35.34   72.55     NaN     NaN     NaN     NaN   \n",
            "2     39.19   36.65   42.47   36.53   78.35     NaN     NaN     NaN     NaN   \n",
            "3     37.74   39.17   52.17   30.58   71.78     NaN     NaN     NaN     NaN   \n",
            "4     38.70   41.89   46.93   33.09   76.97     NaN     NaN     NaN     NaN   \n",
            "..      ...     ...     ...     ...     ...     ...     ...     ...     ...   \n",
            "593     NaN     NaN     NaN     NaN     NaN     NaN     NaN     NaN     NaN   \n",
            "594   49.47   53.07   50.89   55.10   66.49     1.0     NaN     NaN     NaN   \n",
            "595     NaN     NaN     NaN     NaN     NaN     1.0     NaN     NaN     NaN   \n",
            "596     NaN     NaN     NaN     NaN     NaN     NaN     NaN     NaN     NaN   \n",
            "597     NaN     NaN     NaN     NaN     NaN     NaN     NaN     NaN     NaN   \n",
            "\n",
            "     X_2875  \n",
            "0       NaN  \n",
            "1       NaN  \n",
            "2       NaN  \n",
            "3       NaN  \n",
            "4       NaN  \n",
            "..      ...  \n",
            "593     NaN  \n",
            "594     NaN  \n",
            "595     NaN  \n",
            "596     NaN  \n",
            "597     NaN  \n",
            "\n",
            "[598 rows x 2877 columns]\n"
          ]
        }
      ],
      "source": [
        "# train 데이터 확인 (rows 598, columns 2877, 많은 결측치 존재)\n",
        "print(train_x)"
      ],
      "id": "witOImh6msnf"
    },
    {
      "cell_type": "code",
      "source": [
        "# Y_Class 분포 확인, class_imbalance => over_sampling 시도해보았으나 성능향상 x\n",
        "sns.countplot(data=train_df, x='Y_Class')"
      ],
      "metadata": {
        "id": "6pxkKVsPdXBo",
        "colab": {
          "base_uri": "https://localhost:8080/",
          "height": 298
        },
        "outputId": "20f03a05-dc01-4fea-805c-3aeb7480cce6"
      },
      "id": "6pxkKVsPdXBo",
      "execution_count": null,
      "outputs": [
        {
          "output_type": "execute_result",
          "data": {
            "text/plain": [
              "<Axes: xlabel='Y_Class', ylabel='count'>"
            ]
          },
          "metadata": {},
          "execution_count": 8
        },
        {
          "output_type": "display_data",
          "data": {
            "text/plain": [
              "<Figure size 432x288 with 1 Axes>"
            ],
            "image/png": "[encoded data removed]"
          },
          "metadata": {
            "needs_background": "light"
          }
        }
      ]
    },
    {
      "cell_type": "markdown",
      "source": [
        "#Data preprocessing"
      ],
      "metadata": {
        "id": "kvcEAdctXWdd"
      },
      "id": "kvcEAdctXWdd"
    },
    {
      "cell_type": "code",
      "execution_count": null,
      "metadata": {
        "id": "f710209f-754a-456b-97a5-f7fb4f7e0f51",
        "colab": {
          "base_uri": "https://localhost:8080/"
        },
        "outputId": "1c476993-088c-4029-abe9-c2f401cd572a"
      },
      "outputs": [
        {
          "output_type": "stream",
          "name": "stdout",
          "text": [
            "Done.\n"
          ]
        }
      ],
      "source": [
        "# 레이블인코딩\n",
        "qual_col = ['LINE','PRODUCT_CODE']\n",
        "\n",
        "for i in qual_col:\n",
        "    le = LabelEncoder()\n",
        "    le = le.fit(train_x[i])\n",
        "    train_x[i] = le.transform(train_x[i])\n",
        "    \n",
        "    for label in np.unique(test_x[i]):\n",
        "        if label not in le.classes_:\n",
        "            le.classes_ = np.append(le.classes_, label)\n",
        "    test_x[i] = le.transform(test_x[i])\n",
        "print('Done.')"
      ],
      "id": "f710209f-754a-456b-97a5-f7fb4f7e0f51"
    },
    {
      "cell_type": "code",
      "source": [
        "# 결측치 처리\n",
        "train_x = train_x.fillna(0)\n",
        "test_x = test_x.fillna(0)"
      ],
      "metadata": {
        "id": "usSLMUy5IfXM"
      },
      "id": "usSLMUy5IfXM",
      "execution_count": null,
      "outputs": []
    },
    {
      "cell_type": "code",
      "source": [
        "# 결측치 확인\n",
        "print(train_x.isna().any())\n",
        "print(test_x.isna().any())"
      ],
      "metadata": {
        "colab": {
          "base_uri": "https://localhost:8080/"
        },
        "id": "3R7MZCf_XboV",
        "outputId": "da1fcae9-1683-40b9-8d7c-1cfdd1e616d9"
      },
      "id": "3R7MZCf_XboV",
      "execution_count": null,
      "outputs": [
        {
          "output_type": "stream",
          "name": "stdout",
          "text": [
            "LINE            False\n",
            "PRODUCT_CODE    False\n",
            "X_1             False\n",
            "X_2             False\n",
            "X_3             False\n",
            "                ...  \n",
            "X_2871          False\n",
            "X_2872          False\n",
            "X_2873          False\n",
            "X_2874          False\n",
            "X_2875          False\n",
            "Length: 2877, dtype: bool\n",
            "LINE            False\n",
            "PRODUCT_CODE    False\n",
            "X_1             False\n",
            "X_2             False\n",
            "X_3             False\n",
            "                ...  \n",
            "X_2871          False\n",
            "X_2872          False\n",
            "X_2873          False\n",
            "X_2874          False\n",
            "X_2875          False\n",
            "Length: 2877, dtype: bool\n"
          ]
        }
      ]
    },
    {
      "cell_type": "markdown",
      "metadata": {
        "id": "uTLnJ2D2bDet"
      },
      "source": [
        "# Data Split"
      ],
      "id": "uTLnJ2D2bDet"
    },
    {
      "cell_type": "code",
      "execution_count": null,
      "metadata": {
        "id": "3fc9BUsidT1h"
      },
      "outputs": [],
      "source": [
        "from sklearn.model_selection import train_test_split\n",
        "\n",
        "# train-test분리\n",
        "X_train, X_test, y_train, y_test = train_test_split(train_x ,train_y, test_size=0.2)\n",
        "\n",
        "# train-validation분리\n",
        "X2_train, X_val, y2_train, y_val = train_test_split(X_train, y_train, test_size=0.2)"
      ],
      "id": "3fc9BUsidT1h"
    },
    {
      "cell_type": "markdown",
      "source": [
        "# XGBClassifier, GradientBoostingClassifier HyperParameter Tuning & Test"
      ],
      "metadata": {
        "id": "hN-PgVFVXl8l"
      },
      "id": "hN-PgVFVXl8l"
    },
    {
      "cell_type": "code",
      "execution_count": null,
      "metadata": {
        "id": "MqnMWqJXGaG1",
        "colab": {
          "base_uri": "https://localhost:8080/"
        },
        "outputId": "6de83dab-d0bb-4a5c-f21b-9f4c24a8dc1d"
      },
      "outputs": [
        {
          "output_type": "stream",
          "name": "stdout",
          "text": [
            "훈련 세트 정확도: 1.000\n",
            "테스트 세트 정확도: 0.758\n",
            "현재 Macro F1 Score의 검증 점수: 0.502\n",
            "\n",
            "\n",
            "검증훈련 세트 정확도: 1.000\n",
            "검증테스트 세트 정확도: 0.729\n",
            "현재 Macro F1 Score의 검증 점수: 0.615\n",
            "\n",
            "\n",
            "훈련 세트 정확도: 0.996\n",
            "테스트 세트 정확도: 0.808\n",
            "현재 Macro F1 Score의 검증 점수: 0.619\n",
            "\n",
            "\n",
            "검증훈련 세트 정확도: 1.000\n",
            "검증테스트 세트 정확도: 0.781\n",
            "현재 Macro F1 Score의 검증 점수: 0.710\n"
          ]
        }
      ],
      "source": [
        "XGB = XGBClassifier(n_estimators=100, learning_rate=0.08, gamma = 0, subsample=0.75, colsample_bytree = 1, max_depth=7)\n",
        "GB = GradientBoostingClassifier(learning_rate = 0.05, n_estimators = 200, random_state= 37)\n",
        "\n",
        "XGB.fit(X_train, y_train)\n",
        "preds = XGB.predict(X_test)\n",
        "\n",
        "print(\"훈련 세트 정확도: {:.3f}\".format(XGB.score(X_train, y_train)))\n",
        "print(\"테스트 세트 정확도: {:.3f}\".format(XGB.score(X_test, y_test)))\n",
        "print(\"현재 Macro F1 Score의 검증 점수: {:.3f}\".format(f1_score(preds, y_test, average = \"macro\")))\n",
        "print(\"\\n\")  \n",
        "\n",
        "XGB.fit(X2_train, y2_train)\n",
        "preds2 = XGB.predict(X_val)\n",
        "\n",
        "print(\"검증훈련 세트 정확도: {:.3f}\".format(XGB.score(X2_train, y2_train)))\n",
        "print(\"검증테스트 세트 정확도: {:.3f}\".format(XGB.score(X_val, y_val)))\n",
        "print(\"현재 Macro F1 Score의 검증 점수: {:.3f}\".format(f1_score(preds2, y_val, average = \"macro\")))\n",
        "print(\"\\n\") \n",
        "\n",
        "GB.fit(X_train, y_train)\n",
        "preds = GB.predict(X_test) \n",
        "\n",
        "print(\"훈련 세트 정확도: {:.3f}\".format(GB.score(X_train, y_train)))\n",
        "print(\"테스트 세트 정확도: {:.3f}\".format(GB.score(X_test, y_test)))\n",
        "print(\"현재 Macro F1 Score의 검증 점수: {:.3f}\".format(f1_score(preds, y_test, average = \"macro\")))\n",
        "print(\"\\n\") \n",
        "\n",
        "GB.fit(X2_train, y2_train)\n",
        "preds2 = GB.predict(X_val)\n",
        "\n",
        "print(\"검증훈련 세트 정확도: {:.3f}\".format(GB.score(X2_train, y2_train)))\n",
        "print(\"검증테스트 세트 정확도: {:.3f}\".format(GB.score(X_val, y_val)))\n",
        "print(\"현재 Macro F1 Score의 검증 점수: {:.3f}\".format(f1_score(preds2, y_val, average = \"macro\"))) "
      ],
      "id": "MqnMWqJXGaG1"
    },
    {
      "cell_type": "markdown",
      "metadata": {
        "id": "BlpPk1AS9g6q"
      },
      "source": [
        "#Voting Classifier Model"
      ],
      "id": "BlpPk1AS9g6q"
    },
    {
      "cell_type": "code",
      "source": [
        "VM = VotingClassifier(\n",
        "    estimators=[('XGB',XGB),('GB',GB)], \n",
        "    voting='soft'\n",
        "    )"
      ],
      "metadata": {
        "id": "Ksc6ie_UYNZ5"
      },
      "id": "Ksc6ie_UYNZ5",
      "execution_count": null,
      "outputs": []
    },
    {
      "cell_type": "code",
      "source": [
        "VM.fit(train_x, train_y)\n",
        "preds = VM.predict(test_x)"
      ],
      "metadata": {
        "id": "CyLBBSSZjBEL"
      },
      "id": "CyLBBSSZjBEL",
      "execution_count": null,
      "outputs": []
    },
    {
      "cell_type": "markdown",
      "metadata": {
        "id": "d97cf38e-2062-4645-9095-2ebac375711e"
      },
      "source": [
        "## Submit"
      ],
      "id": "d97cf38e-2062-4645-9095-2ebac375711e"
    },
    {
      "cell_type": "code",
      "execution_count": null,
      "metadata": {
        "id": "20c5e156-d7c4-400f-b552-0bb86ebfd3e3"
      },
      "outputs": [],
      "source": [
        "submit = pd.read_csv(DATA_PATH + './sample_submission.csv')"
      ],
      "id": "20c5e156-d7c4-400f-b552-0bb86ebfd3e3"
    },
    {
      "cell_type": "code",
      "execution_count": null,
      "metadata": {
        "id": "5b869ab6-6852-45a1-bc75-39dee40b583f"
      },
      "outputs": [],
      "source": [
        "submit['Y_Class'] = preds"
      ],
      "id": "5b869ab6-6852-45a1-bc75-39dee40b583f"
    },
    {
      "cell_type": "code",
      "execution_count": null,
      "metadata": {
        "id": "026b00cd-5680-4bf2-b7f8-0bea6ae8299e"
      },
      "outputs": [],
      "source": [
        "submit.to_csv(DATA_PATH + './code.csv', index=False)"
      ],
      "id": "026b00cd-5680-4bf2-b7f8-0bea6ae8299e"
    }
  ],
  "metadata": {
    "colab": {
      "provenance": []
    },
    "kernelspec": {
      "display_name": "Python 3",
      "language": "python",
      "name": "python3"
    },
    "language_info": {
      "codemirror_mode": {
        "name": "ipython",
        "version": 3
      },
      "file_extension": ".py",
      "mimetype": "text/x-python",
      "name": "python",
      "nbconvert_exporter": "python",
      "pygments_lexer": "ipython3",
      "version": "3.8.3"
    }
  },
  "nbformat": 4,
  "nbformat_minor": 5
}